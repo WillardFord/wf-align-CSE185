{
 "cells": [
  {
   "attachments": {},
   "cell_type": "markdown",
   "metadata": {},
   "source": [
    "# Sequence Alignment to Reference Genome"
   ]
  },
  {
   "attachments": {},
   "cell_type": "markdown",
   "metadata": {},
   "source": [
    "Version 0.0 will only focus on actual alignments with 100% agreement. We're also going to start with only single ended reads for simplicity but in aligning principal paired end reads is extremely similar.\n",
    "\n",
    "Pretty closely following the methods section of the BWA paper [linked here](https://www.ncbi.nlm.nih.gov/pmc/articles/PMC2705234/#B9)."
   ]
  },
  {
   "cell_type": "code",
   "execution_count": 7,
   "metadata": {},
   "outputs": [],
   "source": [
    "import numpy as np\n",
    "import random"
   ]
  },
  {
   "cell_type": "code",
   "execution_count": 22,
   "metadata": {},
   "outputs": [
    {
     "name": "stdout",
     "output_type": "stream",
     "text": [
      "Ref: GGTATCTGCGTCCCCTGTCCTAGAGATTTTCAATGTTGTGGTCTGACAAAGTCGTATCGGACCAACATGTGCGTCAGATGTCCTGTAACTCACAGAGTCT\n",
      "Read: CGTGC\n"
     ]
    }
   ],
   "source": [
    "# Generate dummy reads and reference genome for learning.\n",
    "# n = length of reference genome\n",
    "# m = length of reads\n",
    "\n",
    "n = 100\n",
    "m = int(n*(1/20))\n",
    "alphabet = [\"A\", \"T\", \"C\", \"G\"]\n",
    "# Make these strings not arrays dog. TODO\n",
    "ref = \"\".join(random.choice(alphabet) for i in range(n)).join(\"$\") # This is T\n",
    "read = \"\".join(random.choice(alphabet) for i in range(m))\n",
    "print(\"Ref:\", ref)\n",
    "print(\"Read:\", read)"
   ]
  },
  {
   "attachments": {},
   "cell_type": "markdown",
   "metadata": {},
   "source": [
    "### 1: Construct suffix array \n",
    "[Space efficient Algorithm](https://link.springer.com/article/10.1007/s00453-006-1228-8)\n",
    "\n",
    "[Implementation of that algorithm](https://academic.oup.com/bioinformatics/article/24/6/791/193908)\n",
    "\n",
    "O(nlogn) algorithm [here](https://arxiv.org/pdf/1610.08305.pdf)"
   ]
  },
  {
   "attachments": {},
   "cell_type": "markdown",
   "metadata": {},
   "source": [
    "#### 1. Sort S substrings of T"
   ]
  },
  {
   "cell_type": "code",
   "execution_count": null,
   "metadata": {},
   "outputs": [],
   "source": [
    "n = len(ref)\n",
    "SA = [\"\"]*(n/2+1)\n",
    "for i in range(1, n+1):\n",
    "    if ref[n-i] < ref[n-i-1]:\n",
    "        continue\n",
    "    if ref[i] < ref[i+1]:\n",
    "        SA[i] = ref[i]\n"
   ]
  },
  {
   "attachments": {},
   "cell_type": "markdown",
   "metadata": {},
   "source": [
    "#### 2. Sort all LMS characters of T"
   ]
  },
  {
   "attachments": {},
   "cell_type": "markdown",
   "metadata": {},
   "source": [
    "#### 3. Induced sort all LMS-substrings from the sorted LMS-characters."
   ]
  },
  {
   "attachments": {},
   "cell_type": "markdown",
   "metadata": {},
   "source": [
    "#### 4. Construct the reduced problem T1 (in which we need to sort all LMS-suffixes) from the sorted LMS-substrings."
   ]
  },
  {
   "attachments": {},
   "cell_type": "markdown",
   "metadata": {},
   "source": [
    "#### 5. Sort the LMS-suffixes by solving T1 recursively."
   ]
  },
  {
   "attachments": {},
   "cell_type": "markdown",
   "metadata": {},
   "source": [
    "#### 6. Induced sort all suffixes of T from the sorted LMS-suffixes."
   ]
  },
  {
   "cell_type": "code",
   "execution_count": null,
   "metadata": {},
   "outputs": [],
   "source": []
  },
  {
   "attachments": {},
   "cell_type": "markdown",
   "metadata": {},
   "source": [
    "### 2: Exact matching with backward search"
   ]
  },
  {
   "cell_type": "code",
   "execution_count": null,
   "metadata": {},
   "outputs": [],
   "source": []
  },
  {
   "attachments": {},
   "cell_type": "markdown",
   "metadata": {},
   "source": [
    "### 3: Reducing memory"
   ]
  },
  {
   "cell_type": "markdown",
   "metadata": {},
   "source": []
  }
 ],
 "metadata": {
  "kernelspec": {
   "display_name": "BIPN164",
   "language": "python",
   "name": "python3"
  },
  "language_info": {
   "codemirror_mode": {
    "name": "ipython",
    "version": 3
   },
   "file_extension": ".py",
   "mimetype": "text/x-python",
   "name": "python",
   "nbconvert_exporter": "python",
   "pygments_lexer": "ipython3",
   "version": "3.11.3"
  },
  "orig_nbformat": 4
 },
 "nbformat": 4,
 "nbformat_minor": 2
}
